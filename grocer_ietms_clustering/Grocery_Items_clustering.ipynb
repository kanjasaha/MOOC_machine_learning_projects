{
 "cells": [
  {
   "cell_type": "markdown",
   "metadata": {},
   "source": [
    "## Collection_DS_takehome_challenges: Clustering Grocery Items\n",
    "\n",
    "### Kanja Saha\n",
    "### 08/07/2018\n",
    "\n",
    "Company XYZ is an online grocery store. In the current version of the website, they have manually grouped the items into a few categories based on their experience. However, they now have a lot of data about user purchase history. Therefore, they would like to put the data into use! This is what they asked you to do: The company founder wants to meet with some of the best customers to go through a focus group with them. \n",
    "\n",
    "You are asked to send the ID of the following customers to the founder: \n",
    "- the customer who bought the most items overall in her lifetime \n",
    "- for each item, the customer who bought that product the most \n",
    "- Cluster items based on user co-purchase history. That is, create clusters of products that have the highest probability of being bought together. The goal of this is to replace the old/manually created categories with these new ones. Each item can belong to just one cluster.\n",
    "\n"
   ]
  },
  {
   "cell_type": "markdown",
   "metadata": {},
   "source": [
    "### Import Libraries & Data Load "
   ]
  },
  {
   "cell_type": "code",
   "execution_count": 1,
   "metadata": {},
   "outputs": [],
   "source": [
    "#import necessary libraries\n",
    "import pandas as pd\n",
    "import numpy as np\n",
    "from IPython.display import display\n",
    "from datetime import datetime\n",
    "import matplotlib.pyplot as plt\n",
    "from mpl_toolkits.mplot3d import Axes3D\n",
    "%matplotlib inline\n",
    "import seaborn as sns"
   ]
  },
  {
   "cell_type": "code",
   "execution_count": 2,
   "metadata": {},
   "outputs": [
    {
     "data": {
      "text/plain": [
       "'Dataset has 48 rows(samples) with 2 columns(features) each.'"
      ]
     },
     "metadata": {},
     "output_type": "display_data"
    },
    {
     "data": {
      "text/plain": [
       "'Dataset has 39474 rows(samples) with 2 columns(features) each.'"
      ]
     },
     "metadata": {},
     "output_type": "display_data"
    },
    {
     "data": {
      "text/plain": [
       "'Dataset has 24885 unique userids.'"
      ]
     },
     "metadata": {},
     "output_type": "display_data"
    },
    {
     "data": {
      "text/html": [
       "<div>\n",
       "<style scoped>\n",
       "    .dataframe tbody tr th:only-of-type {\n",
       "        vertical-align: middle;\n",
       "    }\n",
       "\n",
       "    .dataframe tbody tr th {\n",
       "        vertical-align: top;\n",
       "    }\n",
       "\n",
       "    .dataframe thead th {\n",
       "        text-align: right;\n",
       "    }\n",
       "</style>\n",
       "<table border=\"1\" class=\"dataframe\">\n",
       "  <thead>\n",
       "    <tr style=\"text-align: right;\">\n",
       "      <th></th>\n",
       "      <th>user_id</th>\n",
       "      <th>id</th>\n",
       "    </tr>\n",
       "  </thead>\n",
       "  <tbody>\n",
       "    <tr>\n",
       "      <th>0</th>\n",
       "      <td>222087</td>\n",
       "      <td>27,26</td>\n",
       "    </tr>\n",
       "    <tr>\n",
       "      <th>1</th>\n",
       "      <td>1343649</td>\n",
       "      <td>6,47,17</td>\n",
       "    </tr>\n",
       "    <tr>\n",
       "      <th>2</th>\n",
       "      <td>404134</td>\n",
       "      <td>18,12,23,22,27,43,38,20,35,1</td>\n",
       "    </tr>\n",
       "  </tbody>\n",
       "</table>\n",
       "</div>"
      ],
      "text/plain": [
       "   user_id                            id\n",
       "0   222087                         27,26\n",
       "1  1343649                       6,47,17\n",
       "2   404134  18,12,23,22,27,43,38,20,35,1"
      ]
     },
     "metadata": {},
     "output_type": "display_data"
    },
    {
     "data": {
      "text/html": [
       "<div>\n",
       "<style scoped>\n",
       "    .dataframe tbody tr th:only-of-type {\n",
       "        vertical-align: middle;\n",
       "    }\n",
       "\n",
       "    .dataframe tbody tr th {\n",
       "        vertical-align: top;\n",
       "    }\n",
       "\n",
       "    .dataframe thead th {\n",
       "        text-align: right;\n",
       "    }\n",
       "</style>\n",
       "<table border=\"1\" class=\"dataframe\">\n",
       "  <thead>\n",
       "    <tr style=\"text-align: right;\">\n",
       "      <th></th>\n",
       "      <th>Item_name</th>\n",
       "      <th>Item_id</th>\n",
       "    </tr>\n",
       "  </thead>\n",
       "  <tbody>\n",
       "    <tr>\n",
       "      <th>0</th>\n",
       "      <td>coffee</td>\n",
       "      <td>43</td>\n",
       "    </tr>\n",
       "    <tr>\n",
       "      <th>1</th>\n",
       "      <td>tea</td>\n",
       "      <td>23</td>\n",
       "    </tr>\n",
       "    <tr>\n",
       "      <th>2</th>\n",
       "      <td>juice</td>\n",
       "      <td>38</td>\n",
       "    </tr>\n",
       "  </tbody>\n",
       "</table>\n",
       "</div>"
      ],
      "text/plain": [
       "  Item_name  Item_id\n",
       "0    coffee       43\n",
       "1       tea       23\n",
       "2     juice       38"
      ]
     },
     "metadata": {},
     "output_type": "display_data"
    }
   ],
   "source": [
    "# Load the dataset into pandas dataframe\n",
    "item_to_id = pd.read_csv(\"item_to_id.csv\")\n",
    "display (\"Dataset has {} rows(samples) with {} columns(features) each.\".format(*item_to_id.shape))\n",
    "\n",
    "purchase_history = pd.read_csv(\"purchase_history.csv\")\n",
    "\n",
    "display (\"Dataset has {} rows(samples) with {} columns(features) each.\".format(*purchase_history.shape))\n",
    "\n",
    "display (\"Dataset has {} unique userids.\".format(purchase_history.user_id.nunique()))\n",
    "\n",
    "display (purchase_history.head(3))\n",
    "display (item_to_id.head(3))\n"
   ]
  },
  {
   "cell_type": "markdown",
   "metadata": {},
   "source": [
    "### Question 1\n",
    "Find the customer who bought the most items overall in her lifetime \n"
   ]
  },
  {
   "cell_type": "code",
   "execution_count": 3,
   "metadata": {},
   "outputs": [],
   "source": [
    "df= (purchase_history.drop('id', axis=1)\n",
    "             .join\n",
    "             (\n",
    "             purchase_history.id\n",
    "             .str\n",
    "             .split(\",\")\n",
    "             .apply(pd.Series, 1)\n",
    "             .stack()\n",
    "             .reset_index(drop=True, level=1)\n",
    "             .rename('Item_id') \n",
    "             .astype(\"Int64\")\n",
    "             ))\n",
    "\n"
   ]
  },
  {
   "cell_type": "code",
   "execution_count": 4,
   "metadata": {},
   "outputs": [
    {
     "data": {
      "text/html": [
       "<div>\n",
       "<style scoped>\n",
       "    .dataframe tbody tr th:only-of-type {\n",
       "        vertical-align: middle;\n",
       "    }\n",
       "\n",
       "    .dataframe tbody tr th {\n",
       "        vertical-align: top;\n",
       "    }\n",
       "\n",
       "    .dataframe thead th {\n",
       "        text-align: right;\n",
       "    }\n",
       "</style>\n",
       "<table border=\"1\" class=\"dataframe\">\n",
       "  <thead>\n",
       "    <tr style=\"text-align: right;\">\n",
       "      <th></th>\n",
       "      <th>Item_Total</th>\n",
       "      <th>rnk</th>\n",
       "    </tr>\n",
       "    <tr>\n",
       "      <th>user_id</th>\n",
       "      <th></th>\n",
       "      <th></th>\n",
       "    </tr>\n",
       "  </thead>\n",
       "  <tbody>\n",
       "    <tr>\n",
       "      <th>269335</th>\n",
       "      <td>72</td>\n",
       "      <td>1.0</td>\n",
       "    </tr>\n",
       "  </tbody>\n",
       "</table>\n",
       "</div>"
      ],
      "text/plain": [
       "         Item_Total  rnk\n",
       "user_id                 \n",
       "269335           72  1.0"
      ]
     },
     "execution_count": 4,
     "metadata": {},
     "output_type": "execute_result"
    }
   ],
   "source": [
    "df1=df.groupby(['user_id']).apply(lambda x: pd.Series(dict(Item_Total=x.Item_id.count())))\n",
    "df1.assign(rnk=df1['Item_Total'].rank(method='dense', ascending=False)).query('rnk==1')\n"
   ]
  },
  {
   "cell_type": "markdown",
   "metadata": {},
   "source": [
    "## Question 2\n",
    "For each item,find the customer who bought that product the most \n"
   ]
  },
  {
   "cell_type": "code",
   "execution_count": 5,
   "metadata": {},
   "outputs": [
    {
     "data": {
      "text/html": [
       "<div>\n",
       "<style scoped>\n",
       "    .dataframe tbody tr th:only-of-type {\n",
       "        vertical-align: middle;\n",
       "    }\n",
       "\n",
       "    .dataframe tbody tr th {\n",
       "        vertical-align: top;\n",
       "    }\n",
       "\n",
       "    .dataframe thead th {\n",
       "        text-align: right;\n",
       "    }\n",
       "</style>\n",
       "<table border=\"1\" class=\"dataframe\">\n",
       "  <thead>\n",
       "    <tr style=\"text-align: right;\">\n",
       "      <th></th>\n",
       "      <th>user_id</th>\n",
       "      <th>Item_id</th>\n",
       "    </tr>\n",
       "  </thead>\n",
       "  <tbody>\n",
       "    <tr>\n",
       "      <th>0</th>\n",
       "      <td>222087</td>\n",
       "      <td>27</td>\n",
       "    </tr>\n",
       "    <tr>\n",
       "      <th>0</th>\n",
       "      <td>222087</td>\n",
       "      <td>26</td>\n",
       "    </tr>\n",
       "    <tr>\n",
       "      <th>1</th>\n",
       "      <td>1343649</td>\n",
       "      <td>6</td>\n",
       "    </tr>\n",
       "    <tr>\n",
       "      <th>1</th>\n",
       "      <td>1343649</td>\n",
       "      <td>47</td>\n",
       "    </tr>\n",
       "    <tr>\n",
       "      <th>1</th>\n",
       "      <td>1343649</td>\n",
       "      <td>17</td>\n",
       "    </tr>\n",
       "  </tbody>\n",
       "</table>\n",
       "</div>"
      ],
      "text/plain": [
       "   user_id  Item_id\n",
       "0   222087       27\n",
       "0   222087       26\n",
       "1  1343649        6\n",
       "1  1343649       47\n",
       "1  1343649       17"
      ]
     },
     "execution_count": 5,
     "metadata": {},
     "output_type": "execute_result"
    }
   ],
   "source": [
    "df.head()"
   ]
  },
  {
   "cell_type": "code",
   "execution_count": 6,
   "metadata": {},
   "outputs": [
    {
     "name": "stdout",
     "output_type": "stream",
     "text": [
      "for each item, the customer who bought that product the most\n"
     ]
    },
    {
     "data": {
      "text/html": [
       "<div>\n",
       "<style scoped>\n",
       "    .dataframe tbody tr th:only-of-type {\n",
       "        vertical-align: middle;\n",
       "    }\n",
       "\n",
       "    .dataframe tbody tr th {\n",
       "        vertical-align: top;\n",
       "    }\n",
       "\n",
       "    .dataframe thead th {\n",
       "        text-align: right;\n",
       "    }\n",
       "</style>\n",
       "<table border=\"1\" class=\"dataframe\">\n",
       "  <thead>\n",
       "    <tr style=\"text-align: right;\">\n",
       "      <th></th>\n",
       "      <th></th>\n",
       "      <th>Item_Total</th>\n",
       "      <th>rnk</th>\n",
       "    </tr>\n",
       "    <tr>\n",
       "      <th>Item_name</th>\n",
       "      <th>user_id</th>\n",
       "      <th></th>\n",
       "      <th></th>\n",
       "    </tr>\n",
       "  </thead>\n",
       "  <tbody>\n",
       "    <tr>\n",
       "      <th>aluminum foil</th>\n",
       "      <th>143741</th>\n",
       "      <td>3</td>\n",
       "      <td>1.0</td>\n",
       "    </tr>\n",
       "    <tr>\n",
       "      <th rowspan=\"5\" valign=\"top\">apples</th>\n",
       "      <th>109578</th>\n",
       "      <td>4</td>\n",
       "      <td>1.0</td>\n",
       "    </tr>\n",
       "    <tr>\n",
       "      <th>384935</th>\n",
       "      <td>4</td>\n",
       "      <td>1.0</td>\n",
       "    </tr>\n",
       "    <tr>\n",
       "      <th>545108</th>\n",
       "      <td>4</td>\n",
       "      <td>1.0</td>\n",
       "    </tr>\n",
       "    <tr>\n",
       "      <th>1303742</th>\n",
       "      <td>4</td>\n",
       "      <td>1.0</td>\n",
       "    </tr>\n",
       "    <tr>\n",
       "      <th>1310896</th>\n",
       "      <td>4</td>\n",
       "      <td>1.0</td>\n",
       "    </tr>\n",
       "    <tr>\n",
       "      <th rowspan=\"3\" valign=\"top\">baby items</th>\n",
       "      <th>5289</th>\n",
       "      <td>3</td>\n",
       "      <td>1.0</td>\n",
       "    </tr>\n",
       "    <tr>\n",
       "      <th>73071</th>\n",
       "      <td>3</td>\n",
       "      <td>1.0</td>\n",
       "    </tr>\n",
       "    <tr>\n",
       "      <th>432842</th>\n",
       "      <td>3</td>\n",
       "      <td>1.0</td>\n",
       "    </tr>\n",
       "    <tr>\n",
       "      <th rowspan=\"2\" valign=\"top\">bagels</th>\n",
       "      <th>653800</th>\n",
       "      <td>4</td>\n",
       "      <td>1.0</td>\n",
       "    </tr>\n",
       "    <tr>\n",
       "      <th>820788</th>\n",
       "      <td>4</td>\n",
       "      <td>1.0</td>\n",
       "    </tr>\n",
       "    <tr>\n",
       "      <th rowspan=\"2\" valign=\"top\">bananas</th>\n",
       "      <th>1218645</th>\n",
       "      <td>4</td>\n",
       "      <td>1.0</td>\n",
       "    </tr>\n",
       "    <tr>\n",
       "      <th>1269111</th>\n",
       "      <td>4</td>\n",
       "      <td>1.0</td>\n",
       "    </tr>\n",
       "    <tr>\n",
       "      <th rowspan=\"4\" valign=\"top\">beef</th>\n",
       "      <th>366155</th>\n",
       "      <td>4</td>\n",
       "      <td>1.0</td>\n",
       "    </tr>\n",
       "    <tr>\n",
       "      <th>463073</th>\n",
       "      <td>4</td>\n",
       "      <td>1.0</td>\n",
       "    </tr>\n",
       "    <tr>\n",
       "      <th>1089642</th>\n",
       "      <td>4</td>\n",
       "      <td>1.0</td>\n",
       "    </tr>\n",
       "    <tr>\n",
       "      <th>1275324</th>\n",
       "      <td>4</td>\n",
       "      <td>1.0</td>\n",
       "    </tr>\n",
       "    <tr>\n",
       "      <th rowspan=\"6\" valign=\"top\">berries</th>\n",
       "      <th>38872</th>\n",
       "      <td>4</td>\n",
       "      <td>1.0</td>\n",
       "    </tr>\n",
       "    <tr>\n",
       "      <th>87247</th>\n",
       "      <td>4</td>\n",
       "      <td>1.0</td>\n",
       "    </tr>\n",
       "    <tr>\n",
       "      <th>384935</th>\n",
       "      <td>4</td>\n",
       "      <td>1.0</td>\n",
       "    </tr>\n",
       "    <tr>\n",
       "      <th>1217810</th>\n",
       "      <td>4</td>\n",
       "      <td>1.0</td>\n",
       "    </tr>\n",
       "    <tr>\n",
       "      <th>1236029</th>\n",
       "      <td>4</td>\n",
       "      <td>1.0</td>\n",
       "    </tr>\n",
       "    <tr>\n",
       "      <th>1493728</th>\n",
       "      <td>4</td>\n",
       "      <td>1.0</td>\n",
       "    </tr>\n",
       "    <tr>\n",
       "      <th rowspan=\"5\" valign=\"top\">broccoli</th>\n",
       "      <th>31625</th>\n",
       "      <td>4</td>\n",
       "      <td>1.0</td>\n",
       "    </tr>\n",
       "    <tr>\n",
       "      <th>250777</th>\n",
       "      <td>4</td>\n",
       "      <td>1.0</td>\n",
       "    </tr>\n",
       "    <tr>\n",
       "      <th>268767</th>\n",
       "      <td>4</td>\n",
       "      <td>1.0</td>\n",
       "    </tr>\n",
       "    <tr>\n",
       "      <th>297185</th>\n",
       "      <td>4</td>\n",
       "      <td>1.0</td>\n",
       "    </tr>\n",
       "    <tr>\n",
       "      <th>1286028</th>\n",
       "      <td>4</td>\n",
       "      <td>1.0</td>\n",
       "    </tr>\n",
       "    <tr>\n",
       "      <th rowspan=\"2\" valign=\"top\">butter</th>\n",
       "      <th>151926</th>\n",
       "      <td>3</td>\n",
       "      <td>1.0</td>\n",
       "    </tr>\n",
       "    <tr>\n",
       "      <th>238761</th>\n",
       "      <td>3</td>\n",
       "      <td>1.0</td>\n",
       "    </tr>\n",
       "    <tr>\n",
       "      <th>...</th>\n",
       "      <th>...</th>\n",
       "      <td>...</td>\n",
       "      <td>...</td>\n",
       "    </tr>\n",
       "    <tr>\n",
       "      <th rowspan=\"5\" valign=\"top\">sugar</th>\n",
       "      <th>31625</th>\n",
       "      <td>4</td>\n",
       "      <td>1.0</td>\n",
       "    </tr>\n",
       "    <tr>\n",
       "      <th>68836</th>\n",
       "      <td>4</td>\n",
       "      <td>1.0</td>\n",
       "    </tr>\n",
       "    <tr>\n",
       "      <th>540483</th>\n",
       "      <td>4</td>\n",
       "      <td>1.0</td>\n",
       "    </tr>\n",
       "    <tr>\n",
       "      <th>1091637</th>\n",
       "      <td>4</td>\n",
       "      <td>1.0</td>\n",
       "    </tr>\n",
       "    <tr>\n",
       "      <th>1301034</th>\n",
       "      <td>4</td>\n",
       "      <td>1.0</td>\n",
       "    </tr>\n",
       "    <tr>\n",
       "      <th>tea</th>\n",
       "      <th>920002</th>\n",
       "      <td>5</td>\n",
       "      <td>1.0</td>\n",
       "    </tr>\n",
       "    <tr>\n",
       "      <th rowspan=\"2\" valign=\"top\">toilet paper</th>\n",
       "      <th>1310207</th>\n",
       "      <td>3</td>\n",
       "      <td>1.0</td>\n",
       "    </tr>\n",
       "    <tr>\n",
       "      <th>1425746</th>\n",
       "      <td>3</td>\n",
       "      <td>1.0</td>\n",
       "    </tr>\n",
       "    <tr>\n",
       "      <th rowspan=\"6\" valign=\"top\">tortillas</th>\n",
       "      <th>305916</th>\n",
       "      <td>4</td>\n",
       "      <td>1.0</td>\n",
       "    </tr>\n",
       "    <tr>\n",
       "      <th>375849</th>\n",
       "      <td>4</td>\n",
       "      <td>1.0</td>\n",
       "    </tr>\n",
       "    <tr>\n",
       "      <th>557099</th>\n",
       "      <td>4</td>\n",
       "      <td>1.0</td>\n",
       "    </tr>\n",
       "    <tr>\n",
       "      <th>1158937</th>\n",
       "      <td>4</td>\n",
       "      <td>1.0</td>\n",
       "    </tr>\n",
       "    <tr>\n",
       "      <th>1341188</th>\n",
       "      <td>4</td>\n",
       "      <td>1.0</td>\n",
       "    </tr>\n",
       "    <tr>\n",
       "      <th>1485538</th>\n",
       "      <td>4</td>\n",
       "      <td>1.0</td>\n",
       "    </tr>\n",
       "    <tr>\n",
       "      <th rowspan=\"4\" valign=\"top\">waffles</th>\n",
       "      <th>217277</th>\n",
       "      <td>3</td>\n",
       "      <td>1.0</td>\n",
       "    </tr>\n",
       "    <tr>\n",
       "      <th>397623</th>\n",
       "      <td>3</td>\n",
       "      <td>1.0</td>\n",
       "    </tr>\n",
       "    <tr>\n",
       "      <th>414416</th>\n",
       "      <td>3</td>\n",
       "      <td>1.0</td>\n",
       "    </tr>\n",
       "    <tr>\n",
       "      <th>1392068</th>\n",
       "      <td>3</td>\n",
       "      <td>1.0</td>\n",
       "    </tr>\n",
       "    <tr>\n",
       "      <th rowspan=\"12\" valign=\"top\">yogurt</th>\n",
       "      <th>335841</th>\n",
       "      <td>3</td>\n",
       "      <td>1.0</td>\n",
       "    </tr>\n",
       "    <tr>\n",
       "      <th>342220</th>\n",
       "      <td>3</td>\n",
       "      <td>1.0</td>\n",
       "    </tr>\n",
       "    <tr>\n",
       "      <th>608263</th>\n",
       "      <td>3</td>\n",
       "      <td>1.0</td>\n",
       "    </tr>\n",
       "    <tr>\n",
       "      <th>618914</th>\n",
       "      <td>3</td>\n",
       "      <td>1.0</td>\n",
       "    </tr>\n",
       "    <tr>\n",
       "      <th>728584</th>\n",
       "      <td>3</td>\n",
       "      <td>1.0</td>\n",
       "    </tr>\n",
       "    <tr>\n",
       "      <th>806978</th>\n",
       "      <td>3</td>\n",
       "      <td>1.0</td>\n",
       "    </tr>\n",
       "    <tr>\n",
       "      <th>943163</th>\n",
       "      <td>3</td>\n",
       "      <td>1.0</td>\n",
       "    </tr>\n",
       "    <tr>\n",
       "      <th>1167089</th>\n",
       "      <td>3</td>\n",
       "      <td>1.0</td>\n",
       "    </tr>\n",
       "    <tr>\n",
       "      <th>1169085</th>\n",
       "      <td>3</td>\n",
       "      <td>1.0</td>\n",
       "    </tr>\n",
       "    <tr>\n",
       "      <th>1213479</th>\n",
       "      <td>3</td>\n",
       "      <td>1.0</td>\n",
       "    </tr>\n",
       "    <tr>\n",
       "      <th>1280108</th>\n",
       "      <td>3</td>\n",
       "      <td>1.0</td>\n",
       "    </tr>\n",
       "    <tr>\n",
       "      <th>1329628</th>\n",
       "      <td>3</td>\n",
       "      <td>1.0</td>\n",
       "    </tr>\n",
       "  </tbody>\n",
       "</table>\n",
       "<p>280 rows × 2 columns</p>\n",
       "</div>"
      ],
      "text/plain": [
       "                       Item_Total  rnk\n",
       "Item_name     user_id                 \n",
       "aluminum foil 143741            3  1.0\n",
       "apples        109578            4  1.0\n",
       "              384935            4  1.0\n",
       "              545108            4  1.0\n",
       "              1303742           4  1.0\n",
       "              1310896           4  1.0\n",
       "baby items    5289              3  1.0\n",
       "              73071             3  1.0\n",
       "              432842            3  1.0\n",
       "bagels        653800            4  1.0\n",
       "              820788            4  1.0\n",
       "bananas       1218645           4  1.0\n",
       "              1269111           4  1.0\n",
       "beef          366155            4  1.0\n",
       "              463073            4  1.0\n",
       "              1089642           4  1.0\n",
       "              1275324           4  1.0\n",
       "berries       38872             4  1.0\n",
       "              87247             4  1.0\n",
       "              384935            4  1.0\n",
       "              1217810           4  1.0\n",
       "              1236029           4  1.0\n",
       "              1493728           4  1.0\n",
       "broccoli      31625             4  1.0\n",
       "              250777            4  1.0\n",
       "              268767            4  1.0\n",
       "              297185            4  1.0\n",
       "              1286028           4  1.0\n",
       "butter        151926            3  1.0\n",
       "              238761            3  1.0\n",
       "...                           ...  ...\n",
       "sugar         31625             4  1.0\n",
       "              68836             4  1.0\n",
       "              540483            4  1.0\n",
       "              1091637           4  1.0\n",
       "              1301034           4  1.0\n",
       "tea           920002            5  1.0\n",
       "toilet paper  1310207           3  1.0\n",
       "              1425746           3  1.0\n",
       "tortillas     305916            4  1.0\n",
       "              375849            4  1.0\n",
       "              557099            4  1.0\n",
       "              1158937           4  1.0\n",
       "              1341188           4  1.0\n",
       "              1485538           4  1.0\n",
       "waffles       217277            3  1.0\n",
       "              397623            3  1.0\n",
       "              414416            3  1.0\n",
       "              1392068           3  1.0\n",
       "yogurt        335841            3  1.0\n",
       "              342220            3  1.0\n",
       "              608263            3  1.0\n",
       "              618914            3  1.0\n",
       "              728584            3  1.0\n",
       "              806978            3  1.0\n",
       "              943163            3  1.0\n",
       "              1167089           3  1.0\n",
       "              1169085           3  1.0\n",
       "              1213479           3  1.0\n",
       "              1280108           3  1.0\n",
       "              1329628           3  1.0\n",
       "\n",
       "[280 rows x 2 columns]"
      ]
     },
     "execution_count": 6,
     "metadata": {},
     "output_type": "execute_result"
    }
   ],
   "source": [
    "print(\"for each item, the customer who bought that product the most\")\n",
    "df11=pd.merge(df, item_to_id, on='Item_id', how='inner')\n",
    "df12=df11.groupby(['Item_name','user_id']).apply(lambda x: pd.Series(dict(Item_Total=x.Item_id.count())))\n",
    "df12.assign(rnk=df12.groupby(['Item_name'])['Item_Total'].rank(method='dense', ascending=False)).query('rnk==1')\n"
   ]
  },
  {
   "cell_type": "markdown",
   "metadata": {},
   "source": [
    "### Question 3\n",
    "Cluster items based on user co-purchase history. That is, create clusters of products that have the highest probability of being bought together. \n"
   ]
  },
  {
   "cell_type": "markdown",
   "metadata": {},
   "source": [
    "### Data Transformation"
   ]
  },
  {
   "cell_type": "code",
   "execution_count": 7,
   "metadata": {},
   "outputs": [],
   "source": [
    "df2=purchase_history[\"id\"].str.get_dummies(',').replace('',0)\n",
    "df2.rename(inplace=True,columns=dict(zip(df2.columns, item_to_id[\"Item_name\"])))\n",
    "n_data=df2.corr()\n"
   ]
  },
  {
   "cell_type": "markdown",
   "metadata": {},
   "source": [
    "## Model Implementations\n",
    "\n",
    "I chose K-means as it works well with numerical variables and in lower dimensions. To compliment my finsing, I will also implement Hierarchical Clustering which really works well with correlation matrix."
   ]
  },
  {
   "cell_type": "markdown",
   "metadata": {},
   "source": [
    "### Kmeans"
   ]
  },
  {
   "cell_type": "code",
   "execution_count": 8,
   "metadata": {},
   "outputs": [
    {
     "name": "stdout",
     "output_type": "stream",
     "text": [
      "For K-means n_clusters = 2. The average silhouette_score is : 0.041661205678714015\n",
      "For K-means n_clusters = 3. The average silhouette_score is : 0.051327271905582596\n",
      "For K-means n_clusters = 4. The average silhouette_score is : 0.06353447573445599\n",
      "For K-means n_clusters = 5. The average silhouette_score is : 0.0640802098701967\n",
      "For K-means n_clusters = 6. The average silhouette_score is : 0.07883146018807412\n",
      "For K-means n_clusters = 7. The average silhouette_score is : 0.09840876189985981\n",
      "For K-means n_clusters = 8. The average silhouette_score is : 0.11069083390608951\n",
      "For K-means n_clusters = 9. The average silhouette_score is : 0.1202685525277618\n",
      "For K-means n_clusters = 10. The average silhouette_score is : 0.12718099937061586\n",
      "For K-means n_clusters = 11. The average silhouette_score is : 0.13075741094730597\n",
      "For K-means n_clusters = 12. The average silhouette_score is : 0.13709329800420839\n",
      "For K-means n_clusters = 13. The average silhouette_score is : 0.13126191636650142\n",
      "For K-means n_clusters = 14. The average silhouette_score is : 0.1254565725107728\n",
      "For K-means n_clusters = 15. The average silhouette_score is : 0.12704289417715767\n",
      "For K-means n_clusters = 16. The average silhouette_score is : 0.12013452110805715\n",
      "For K-means n_clusters = 17. The average silhouette_score is : 0.11636228485306821\n",
      "For K-means n_clusters = 18. The average silhouette_score is : 0.12320764064486396\n",
      "For K-means n_clusters = 19. The average silhouette_score is : 0.10360804643507622\n"
     ]
    },
    {
     "data": {
      "text/plain": [
       "[<matplotlib.lines.Line2D at 0x2c49b79b080>]"
      ]
     },
     "execution_count": 8,
     "metadata": {},
     "output_type": "execute_result"
    },
    {
     "data": {
      "image/png": "[encoded data removed]",
      "text/plain": [
       "<matplotlib.figure.Figure at 0x2c4ba94b390>"
      ]
     },
     "metadata": {},
     "output_type": "display_data"
    }
   ],
   "source": [
    "#Elbow method & silhouette_score\n",
    "import matplotlib.pyplot as plt\n",
    "from sklearn.metrics import silhouette_score\n",
    "from sklearn.cluster import KMeans\n",
    "# Pretty display for notebooks\n",
    "%matplotlib inline\n",
    "\n",
    "cluster_range = range( 2, 20 )\n",
    "cluster_errors = []\n",
    "\n",
    "for num_clusters in cluster_range:\n",
    "    clusters = KMeans(num_clusters)\n",
    "    clusters.fit(n_data)\n",
    "    preds = clusters.predict(n_data)\n",
    "    cluster_errors.append( clusters.inertia_ )\n",
    "    score = silhouette_score(n_data, preds, metric='euclidean')\n",
    "    print (\"For K-means n_clusters = {}. The average silhouette_score is : {}\".format(num_clusters, score))\n",
    "\n",
    "clusters_df = pd.DataFrame( { \"num_clusters\":cluster_range, \"cluster_errors\": cluster_errors } )\n",
    "\n",
    "plt.figure(figsize=(12,6))\n",
    "plt.ylabel('Explained Variance')\n",
    "plt.xlabel('Number of Clusters')\n",
    "plt.plot( clusters_df.num_clusters, clusters_df.cluster_errors, marker = \"o\" )"
   ]
  },
  {
   "cell_type": "markdown",
   "metadata": {},
   "source": [
    "Although there is no clear bent in the elbow, if you look at the silhoutte score around 12 to 14 cluster, the value seems to not change much at that range. So, I think 12 to 14 cluster may be considered optimal."
   ]
  },
  {
   "cell_type": "code",
   "execution_count": 9,
   "metadata": {},
   "outputs": [],
   "source": [
    "#Find cluster centers and size using Kmeans\n",
    "# Loop through clusters\n",
    "if 'cluster' in n_data.columns:\n",
    "    n_data.drop(['cluster'], axis = 1, inplace = True)\n",
    "if 'item' in n_data.columns:\n",
    "    n_data.drop(['item'], axis = 1, inplace = True)\n",
    "\n",
    "from sklearn.metrics import silhouette_score\n",
    "from sklearn.cluster import KMeans\n",
    "range_n_clusters = range(12,13)\n",
    "for n_clusters in range_n_clusters:\n",
    "    #Apply your clustering algorithm of choice to the reduced data \n",
    "    clusterer = KMeans(n_clusters=n_clusters).fit(n_data)\n",
    "\n",
    "    #Predict the cluster for each data point\n",
    "    preds = clusterer.predict(n_data)\n",
    "    \n",
    "    #Predict the cluster for each transformed sample data point\n",
    "    labels_kmeans=clusterer.labels_\n",
    "    n_data['cluster']=labels_kmeans\n",
    "n_data['item']=n_data.index\n",
    "n_data.sort_values(by =['cluster', 'item'], inplace =True)"
   ]
  },
  {
   "cell_type": "markdown",
   "metadata": {},
   "source": [
    "### Plotting Kmeans result with 12 clusters"
   ]
  },
  {
   "cell_type": "code",
   "execution_count": 10,
   "metadata": {},
   "outputs": [
    {
     "data": {
      "image/png": "[encoded data removed]",
      "text/plain": [
       "<matplotlib.figure.Figure at 0x2c4a0031e48>"
      ]
     },
     "metadata": {},
     "output_type": "display_data"
    }
   ],
   "source": [
    "import matplotlib.pyplot as plt\n",
    "\n",
    "plt.figure(figsize=(20, 8), dpi=80)\n",
    "plt.xticks(rotation=90)\n",
    "ax=sns.barplot(n_data['item'],n_data['cluster'])\n",
    "plt.show()"
   ]
  },
  {
   "cell_type": "markdown",
   "metadata": {},
   "source": [
    "### AgglomerativeClustering"
   ]
  },
  {
   "cell_type": "code",
   "execution_count": 11,
   "metadata": {},
   "outputs": [
    {
     "data": {
      "text/plain": [
       "array([ 0,  1,  2,  3,  4,  5,  6,  7,  8,  9, 10, 11, 12, 13, 14, 15, 16,\n",
       "       17, 18, 19, 20, 21, 22, 23, 24, 25, 26, 27, 28, 29, 30, 31, 32, 33,\n",
       "       34, 35, 36, 37, 38, 39, 40, 41, 42, 43, 44, 45, 46])"
      ]
     },
     "metadata": {},
     "output_type": "display_data"
    },
    {
     "data": {
      "text/plain": [
       "array([ 2,  3,  4,  5,  6,  7,  8,  9, 10, 11, 12, 13, 14, 15, 16, 17, 18,\n",
       "       19, 20, 21, 22, 23, 24, 25, 26, 27, 28, 29, 30, 31, 32, 33, 34, 35,\n",
       "       36, 37, 38, 39, 40, 41, 42, 43, 44, 45, 46, 47, 48])"
      ]
     },
     "metadata": {},
     "output_type": "display_data"
    },
    {
     "data": {
      "image/png": "[encoded data removed]",
      "text/plain": [
       "<matplotlib.figure.Figure at 0x2c49b71bfd0>"
      ]
     },
     "metadata": {},
     "output_type": "display_data"
    }
   ],
   "source": [
    "from sklearn.cluster import AgglomerativeClustering\n",
    "\n",
    "if 'cluster' in n_data.columns:\n",
    "    n_data.drop(['cluster'], axis = 1, inplace = True)\n",
    "if 'item' in n_data.columns:\n",
    "    n_data.drop(['item'], axis = 1, inplace = True)\n",
    "\n",
    "Hclustering = AgglomerativeClustering(n_clusters=12, affinity='euclidean', linkage='ward')\n",
    "Hclustering.fit_predict(n_data)\n",
    "labels_HC = Hclustering.labels_\n",
    "n_data['cluster']=Hclustering.labels_\n",
    "n_data['item']=n_data.index\n",
    "\n",
    "\n",
    "from scipy.cluster.hierarchy import dendrogram\n",
    "def plot_dendrogram(model, **kwargs):\n",
    "\n",
    "    # Children of hierarchical clustering\n",
    "    children = model.children_\n",
    "\n",
    "    # Distances between each pair of children\n",
    "    # Since we don't have this information, we can use a uniform one for plotting\n",
    "    distance = np.arange(children.shape[0])\n",
    "    display(distance)\n",
    "\n",
    "    # The number of observations contained in each cluster level\n",
    "    no_of_observations = np.arange(2, children.shape[0]+2)\n",
    "    display(no_of_observations)\n",
    "\n",
    "    # Create linkage matrix and then plot the dendrogram\n",
    "    linkage_matrix = np.column_stack([children, distance, no_of_observations]).astype(float)\n",
    "\n",
    "    # Plot the corresponding dendrogram\n",
    "    #dendrogram(linkage_matrix, p=3, truncate_mode='level', **kwargs)\n",
    "    dendrogram(linkage_matrix, p=30, truncate_mode='level', **kwargs)\n",
    "\n",
    "plt.figure(figsize=(20, 8), dpi=80)\n",
    "plt.xticks(rotation=90)\n",
    "plt.title('Hierarchical Clustering Dendrogram')\n",
    "plot_dendrogram(Hclustering, labels=Hclustering.labels_)\n",
    "plt.show()"
   ]
  },
  {
   "cell_type": "code",
   "execution_count": 12,
   "metadata": {},
   "outputs": [
    {
     "data": {
      "image/png": "[encoded data removed]",
      "text/plain": [
       "<matplotlib.figure.Figure at 0x2c49be44208>"
      ]
     },
     "metadata": {},
     "output_type": "display_data"
    }
   ],
   "source": [
    "import matplotlib.pyplot as plt\n",
    "\n",
    "plt.figure(figsize=(20, 8), dpi=80)\n",
    "plt.xticks(rotation=90)\n",
    "ax=sns.barplot(n_data['item'],n_data['cluster'])\n",
    "plt.show()"
   ]
  },
  {
   "cell_type": "markdown",
   "metadata": {},
   "source": [
    "### Conclusion\n",
    "\n",
    "From the two above clustering results, the grocery items can be clustered into 12 groups.\n"
   ]
  },
  {
   "cell_type": "code",
   "execution_count": 13,
   "metadata": {},
   "outputs": [
    {
     "data": {
      "text/plain": [
       "<bound method DataFrame.to_html of                                                                   item\n",
       "cluster                                                               \n",
       "0        [cauliflower, coffee, ice cream, beef, juice, poultry, soap] \n",
       "1        [cherries, frozen vegetables, ketchup, soda]                 \n",
       "2        [cheeses, laundry detergent, paper towels, tea, toilet paper]\n",
       "3        [lettuce, sugar, waffles]                                    \n",
       "4        [bananas, cereals, shaving cream, tortillas]                 \n",
       "5        [baby items, bagels, dinner rolls, milk, shampoo]            \n",
       "6        [canned vegetables, hand soap, sandwich bags]                \n",
       "7        [apples, berries, carrots, sandwich loaves]                  \n",
       "8        [aluminum foil, cucumbers, eggs, flour, pork]                \n",
       "9        [broccoli, butter, dishwashing , pet items]                  \n",
       "10       [pasta, spaghetti sauce]                                     \n",
       "11       [grapefruit, yogurt]                                         >"
      ]
     },
     "execution_count": 13,
     "metadata": {},
     "output_type": "execute_result"
    }
   ],
   "source": [
    "p=pd.DataFrame(n_data.groupby(['cluster'])['item'].apply(list))\n",
    "pd.set_option('display.max_colwidth', -1)\n",
    "p.to_html"
   ]
  }
 ],
 "metadata": {
  "kernelspec": {
   "display_name": "Python 3",
   "language": "python",
   "name": "python3"
  },
  "language_info": {
   "codemirror_mode": {
    "name": "ipython",
    "version": 3
   },
   "file_extension": ".py",
   "mimetype": "text/x-python",
   "name": "python",
   "nbconvert_exporter": "python",
   "pygments_lexer": "ipython3",
   "version": "3.5.4"
  }
 },
 "nbformat": 4,
 "nbformat_minor": 1
}
